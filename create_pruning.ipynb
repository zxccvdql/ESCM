{
 "cells": [
  {
   "cell_type": "code",
   "execution_count": null,
   "id": "a0145564-a77b-4aa7-a57b-592da080ab77",
   "metadata": {},
   "outputs": [],
   "source": [
    "import os\n",
    "import torch\n",
    "from torch.utils.data import DataLoader\n",
    "\n",
    "from dataloaders import *\n",
    "from scene_net import *\n",
    "from prune_utils import *\n",
    "from loss import Our_SceneNetLoss\n"
   ]
  },
  {
   "cell_type": "code",
   "execution_count": null,
   "id": "1dce8c4c-2f32-4efa-a401-bc5fb910ff2f",
   "metadata": {},
   "outputs": [],
   "source": [
    "os.environ['CUDA_VISIBLE_DEVICES'] = '0'"
   ]
  },
  {
   "cell_type": "code",
   "execution_count": null,
   "id": "63df3e66-82c2-4fa3-a618-f4d7e027864b",
   "metadata": {},
   "outputs": [],
   "source": [
    "dataset = 'taskonomy'\n",
    "ratio =50  #Take a number between 0 and 100 to indicate the sparsity of the model. The larger the value, the higher the proportion of 0 in the model.\n",
    "num_batches = 50 # Data driven rounds\n",
    "method = 'prune_pt'\n",
    "dest = f\"path/to/save/model\"\n",
    "device = torch.device(\"cuda\" if torch.cuda.is_available() else \"cpu\")"
   ]
  },
  {
   "cell_type": "code",
   "execution_count": null,
   "id": "1919afa9-f78f-4a91-9175-44d75af4bed3",
   "metadata": {},
   "outputs": [],
   "source": [
    "os.makedirs(dest, exist_ok=True)"
   ]
  },
  {
   "cell_type": "code",
   "execution_count": null,
   "id": "4a81bda5-de41-49ec-aaa6-8bd028ca781b",
   "metadata": {},
   "outputs": [],
   "source": [
    "\n",
    "if dataset == \"nyuv2_3\":\n",
    "    from config_nyuv2_3task import Config\n",
    "    config = Config()\n",
    "    train_dataset = NYU_v2(config.DATA_ROOT, 'train', crop_h=config.CROP_H, crop_w=config.CROP_W)\n",
    "    train_loader = DataLoader(train_dataset, batch_size = config.BATCH_SIZE, num_workers = 8, shuffle=True, pin_memory=True)\n",
    "    # test_dataset = NYU_v2(config.DATA_ROOT, 'test')\n",
    "    # test_loader = DataLoader(test_dataset, batch_size = 1, num_workers = 8, shuffle=True, pin_memory=True)\n",
    "elif dataset == \"cityscapes\":\n",
    "    from config_cityscapes import Config\n",
    "    config = Config()\n",
    "    train_dataset = CityScapes(config.DATA_ROOT, 'train', crop_h=config.CROP_H, crop_w=config.CROP_W)\n",
    "    train_loader = DataLoader(train_dataset, batch_size = int(config.BATCH_SIZE / 2), num_workers = 8, shuffle=True, pin_memory=True)\n",
    "    # test_dataset = CityScapes(config.DATA_ROOT, 'test')\n",
    "    # test_loader = DataLoader(test_dataset, batch_size = 1, num_workers = 8, shuffle=True, pin_memory=True)\n",
    "elif dataset == \"taskonomy\":\n",
    "    from config_taskonomy import Config\n",
    "    config = Config()\n",
    "    train_dataset = Taskonomy(config.DATA_ROOT, 'train', crop_h=config.CROP_H, crop_w=config.CROP_W)\n",
    "    train_loader = DataLoader(train_dataset, batch_size = config.BATCH_SIZE//4, num_workers = 8, shuffle=True, pin_memory=True)\n",
    "    # test_dataset = Taskonomy(config.DATA_ROOT, 'test')\n",
    "    # test_loader = DataLoader(test_dataset, batch_size = 1, num_workers = 8, shuffle=True, pin_memory=True)\n",
    "else:\n",
    "    print(\"Unrecognized Dataset Name.\")\n",
    "    exit()"
   ]
  },
  {
   "cell_type": "code",
   "execution_count": null,
   "id": "c9d306d7-6452-42bf-9b3f-675d418c5a23",
   "metadata": {},
   "outputs": [],
   "source": [
    "selected_tasks=[config.TASKS[3], config.TASKS[4]] # Tasks to be selected\n",
    "# selected_tasks = config.TASKS\n",
    "if not isinstance(selected_tasks, list):\n",
    "    selected_tasks = [selected_tasks]\n",
    "    str_task = selected_tasks[0]\n",
    "else:\n",
    "    str_task = \"_\".join(selected_tasks)\n",
    "print(selected_tasks)\n",
    "print(str_task)"
   ]
  },
  {
   "cell_type": "code",
   "execution_count": null,
   "id": "3da33153-0b7f-4c4a-8db5-76fb8049cb6a",
   "metadata": {},
   "outputs": [],
   "source": [
    "network_name = f\"{dataset}_{method}_{ratio}_{str_task}\"\n",
    "save_path = f\"{dest}/{ratio}_{str_task}/{network_name}.pth\"\n",
    "os.makedirs(f\"{dest}/{ratio}_{str_task}\", exist_ok=True)\n",
    "print(save_path)"
   ]
  },
  {
   "cell_type": "code",
   "execution_count": null,
   "id": "700e997f-f301-4252-9145-a344a1f3fac7",
   "metadata": {
    "scrolled": true
   },
   "outputs": [],
   "source": [
    "net = SceneNet(config.TASKS_NUM_CLASS, config.BACKBONE_NAME).to(device)\n",
    "orgin_dict = torch.load(\"path/to/base_model.pth\")\n",
    "## If the base_model is multi card trained. Otherwise, comment out the content.\n",
    "# modified_state_dict = {}\n",
    "# for key, value in orgin_dict.items():\n",
    "#     if key.startswith(\"module.\"):\n",
    "#         new_key = key[7:]  \n",
    "#         modified_state_dict[new_key] = value\n",
    "#     else:\n",
    "#         modified_state_dict[key] = value\n",
    "# net.load_state_dict(modified_state_dict)\n",
    "\n",
    "net.load_state_dict(orgin_dict)"
   ]
  },
  {
   "cell_type": "code",
   "execution_count": null,
   "id": "c00c1163-48b1-47aa-b97e-2ec0726e52ab",
   "metadata": {},
   "outputs": [],
   "source": [
    "def create_pruned_model_nyuv2(net, ratio, criterion, train_loader, num_batches, device, selected_tasks, tasks):\n",
    "    if ratio == 90:\n",
    "        keep_ratio = 0.08\n",
    "    elif ratio == 70:\n",
    "        keep_ratio = 0.257\n",
    "    elif ratio == 50:\n",
    "        keep_ratio = 0.46\n",
    "    elif ratio == 30:\n",
    "        keep_ratio = 0.675\n",
    "    else:\n",
    "        keep_ratio = (100 - ratio) / 100\n",
    "    net = prune_net(net, criterion, train_loader, num_batches, keep_ratio, device, selected_tasks, tasks)\n",
    "    return net\n",
    "\n",
    "def create_pruned_model_cityscapes(net, ratio, criterion, train_loader, num_batches, device, selected_tasks, tasks):\n",
    "    if ratio == 90:\n",
    "        keep_ratio = 0.095\n",
    "    elif ratio == 70:\n",
    "        keep_ratio = 0.3\n",
    "    elif ratio == 50:\n",
    "        keep_ratio = 0.51\n",
    "    elif ratio == 30:\n",
    "        keep_ratio = 0.71\n",
    "    else:\n",
    "        keep_ratio = (100 - ratio) / 100\n",
    "    net = prune_net(net, criterion, train_loader, num_batches, keep_ratio, device, selected_tasks, tasks)\n",
    "    return net\n",
    "\n",
    "def create_pruned_model_taskonomy(net, ratio, criterion, train_loader, num_batches, device, selected_tasks, tasks):\n",
    "    if ratio == 90:\n",
    "        keep_ratio = 0.1\n",
    "    elif ratio == 70:\n",
    "        keep_ratio = 0.257\n",
    "    elif ratio == 50:\n",
    "        keep_ratio = 0.5\n",
    "    elif ratio == 30:\n",
    "        keep_ratio = 0.675\n",
    "    else:\n",
    "        keep_ratio = (100 - ratio) / 100\n",
    "    net = prune_net(net, criterion, train_loader, num_batches, keep_ratio, device, selected_tasks, tasks)\n",
    "    return net"
   ]
  },
  {
   "cell_type": "code",
   "execution_count": null,
   "id": "3739b743-a50a-4154-8efe-0b618c6b95f0",
   "metadata": {},
   "outputs": [],
   "source": [
    "def create_prune_model(dataset, ratio, num_batches, method, config, device, net, train_loader, selected_tasks):\n",
    "    if method == \"prune_pt\":\n",
    "        criterion = Our_SceneNetLoss(dataset, config.TASKS, config.TASKS_NUM_CLASS, config.LAMBDAS, device, config.DATA_ROOT)\n",
    "        if dataset in [\"nyuv2\", 'nyuv2_3']:\n",
    "            net = create_pruned_model_nyuv2(net, ratio, criterion, train_loader, num_batches, device, selected_tasks, tasks=config.TASKS)\n",
    "        elif dataset == \"cityscapes\":\n",
    "            net = create_pruned_model_cityscapes(net, ratio, criterion, train_loader, num_batches, device, selected_tasks, tasks=config.TASKS)\n",
    "        elif dataset == \"taskonomy\":\n",
    "            net = create_pruned_model_taskonomy(net, ratio, criterion, train_loader, num_batches, device, selected_tasks, tasks=config.TASKS)\n",
    "    else:\n",
    "        print(\"Unrecognized Dataset Name.\")\n",
    "        \n",
    "    return net"
   ]
  },
  {
   "cell_type": "code",
   "execution_count": null,
   "id": "0fb9f908-4fe4-4d90-a719-9b9ff2a68b46",
   "metadata": {
    "scrolled": true
   },
   "outputs": [],
   "source": [
    "net = create_prune_model(dataset, ratio, num_batches, method, config, device, net, train_loader, selected_tasks)"
   ]
  },
  {
   "cell_type": "code",
   "execution_count": null,
   "id": "244d867c-6ff2-4767-bc3c-79cdeeca131a",
   "metadata": {},
   "outputs": [],
   "source": [
    "print(f\"Saving the pruned model to {save_path}\")\n",
    "torch.save(net.state_dict(), save_path)"
   ]
  }
 ],
 "metadata": {
  "kernelspec": {
   "display_name": "Python 3 (ipykernel)",
   "language": "python",
   "name": "python3"
  },
  "language_info": {
   "codemirror_mode": {
    "name": "ipython",
    "version": 3
   },
   "file_extension": ".py",
   "mimetype": "text/x-python",
   "name": "python",
   "nbconvert_exporter": "python",
   "pygments_lexer": "ipython3",
   "version": "3.9.19"
  }
 },
 "nbformat": 4,
 "nbformat_minor": 5
}
