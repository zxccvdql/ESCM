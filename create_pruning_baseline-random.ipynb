{
 "cells": [
  {
   "cell_type": "code",
   "execution_count": null,
   "id": "a0145564-a77b-4aa7-a57b-592da080ab77",
   "metadata": {
    "execution": {
     "iopub.execute_input": "2024-07-10T09:51:21.121845Z",
     "iopub.status.busy": "2024-07-10T09:51:21.121479Z",
     "iopub.status.idle": "2024-07-10T09:51:21.128837Z",
     "shell.execute_reply": "2024-07-10T09:51:21.127764Z",
     "shell.execute_reply.started": "2024-07-10T09:51:21.121814Z"
    }
   },
   "outputs": [],
   "source": [
    "import os\n",
    "\n",
    "import torch\n",
    "import torch.nn as nn\n",
    "\n",
    "\n",
    "from dataloaders import *\n",
    "from scene_net import *\n",
    "from prune_utils import *\n",
    "\n",
    "import torch.nn.utils.prune as prune"
   ]
  },
  {
   "cell_type": "code",
   "execution_count": null,
   "id": "1dce8c4c-2f32-4efa-a401-bc5fb910ff2f",
   "metadata": {
    "execution": {
     "iopub.execute_input": "2024-07-10T09:51:21.326747Z",
     "iopub.status.busy": "2024-07-10T09:51:21.326416Z",
     "iopub.status.idle": "2024-07-10T09:51:21.331257Z",
     "shell.execute_reply": "2024-07-10T09:51:21.330315Z",
     "shell.execute_reply.started": "2024-07-10T09:51:21.326717Z"
    }
   },
   "outputs": [],
   "source": [
    "os.environ['CUDA_VISIBLE_DEVICES'] = '0'"
   ]
  },
  {
   "cell_type": "code",
   "execution_count": null,
   "id": "1d2a81cf-c86e-40be-b76e-6c02ff73c9b1",
   "metadata": {
    "execution": {
     "iopub.execute_input": "2024-07-10T09:51:21.542842Z",
     "iopub.status.busy": "2024-07-10T09:51:21.542509Z",
     "iopub.status.idle": "2024-07-10T09:51:21.547424Z",
     "shell.execute_reply": "2024-07-10T09:51:21.546401Z",
     "shell.execute_reply.started": "2024-07-10T09:51:21.542812Z"
    }
   },
   "outputs": [],
   "source": [
    "dataset = 'nyuv2_3'\n",
    "task = 'T2+T3'\n",
    "ration = 0.7"
   ]
  },
  {
   "cell_type": "code",
   "execution_count": null,
   "id": "20c49bd6-0aa5-44c1-870f-e35b9df1140f",
   "metadata": {
    "execution": {
     "iopub.execute_input": "2024-07-10T09:51:21.773956Z",
     "iopub.status.busy": "2024-07-10T09:51:21.773650Z",
     "iopub.status.idle": "2024-07-10T09:51:21.779365Z",
     "shell.execute_reply": "2024-07-10T09:51:21.778536Z",
     "shell.execute_reply.started": "2024-07-10T09:51:21.773926Z"
    }
   },
   "outputs": [],
   "source": [
    "if dataset == \"nyuv2_3\":\n",
    "    from config_nyuv2_3task import Config\n",
    "    config = Config()\n",
    "elif dataset == \"cityscapes\":\n",
    "    from config_cityscapes import Config\n",
    "    config = Config()\n",
    "elif dataset == \"taskonomy\":\n",
    "    from config_taskonomy import Config\n",
    "    config = Config()"
   ]
  },
  {
   "cell_type": "code",
   "execution_count": null,
   "id": "e682b728-2ce6-4920-a73a-dc95f3fc78d4",
   "metadata": {
    "execution": {
     "iopub.execute_input": "2024-07-10T09:51:22.060966Z",
     "iopub.status.busy": "2024-07-10T09:51:22.060753Z",
     "iopub.status.idle": "2024-07-10T09:51:22.064063Z",
     "shell.execute_reply": "2024-07-10T09:51:22.063366Z",
     "shell.execute_reply.started": "2024-07-10T09:51:22.060949Z"
    }
   },
   "outputs": [],
   "source": [
    "device = torch.device(\"cuda\" if torch.cuda.is_available() else \"cpu\")"
   ]
  },
  {
   "cell_type": "code",
   "execution_count": null,
   "id": "9ca3b797-c8e9-4ffd-b1c2-5f17679273e0",
   "metadata": {
    "execution": {
     "iopub.execute_input": "2024-07-10T09:51:22.382273Z",
     "iopub.status.busy": "2024-07-10T09:51:22.382081Z",
     "iopub.status.idle": "2024-07-10T09:51:23.121878Z",
     "shell.execute_reply": "2024-07-10T09:51:23.121274Z",
     "shell.execute_reply.started": "2024-07-10T09:51:22.382254Z"
    }
   },
   "outputs": [],
   "source": [
    "net = SceneNet(config.TASKS_NUM_CLASS, config.BACKBONE_NAME).to(device)"
   ]
  },
  {
   "cell_type": "code",
   "execution_count": null,
   "id": "10e9c767-27cd-42e6-b085-f9b9b04d03ec",
   "metadata": {
    "execution": {
     "iopub.execute_input": "2024-07-10T09:51:23.122931Z",
     "iopub.status.busy": "2024-07-10T09:51:23.122771Z",
     "iopub.status.idle": "2024-07-10T09:51:23.126620Z",
     "shell.execute_reply": "2024-07-10T09:51:23.126104Z",
     "shell.execute_reply.started": "2024-07-10T09:51:23.122915Z"
    }
   },
   "outputs": [],
   "source": [
    "parameters_to_prune = []\n",
    "for name, layer in net.named_modules():\n",
    "    if isinstance(layer, nn.Conv2d) or isinstance(layer, nn.Linear):\n",
    "        # if 'backbone' in name or 'task2' in name or 'task3' in name:\n",
    "        if 'backbone' in name or 'task' in name:\n",
    "            parameters_to_prune.append((layer, 'weight'))"
   ]
  },
  {
   "cell_type": "code",
   "execution_count": null,
   "id": "855559fb-0e62-478b-b8a1-9ce8a51eda5d",
   "metadata": {
    "execution": {
     "iopub.execute_input": "2024-07-10T09:51:23.129150Z",
     "iopub.status.busy": "2024-07-10T09:51:23.129006Z",
     "iopub.status.idle": "2024-07-10T09:51:23.162434Z",
     "shell.execute_reply": "2024-07-10T09:51:23.161828Z",
     "shell.execute_reply.started": "2024-07-10T09:51:23.129136Z"
    }
   },
   "outputs": [],
   "source": [
    "prune.global_unstructured(\n",
    "    parameters_to_prune,\n",
    "    pruning_method=prune.RandomUnstructured,\n",
    "    amount=ration,\n",
    ")"
   ]
  },
  {
   "cell_type": "code",
   "execution_count": null,
   "id": "e1e46db1-bc11-4bbb-b312-8f55e31ed22e",
   "metadata": {
    "execution": {
     "iopub.execute_input": "2024-07-10T09:51:23.269719Z",
     "iopub.status.busy": "2024-07-10T09:51:23.269559Z",
     "iopub.status.idle": "2024-07-10T09:51:23.274245Z",
     "shell.execute_reply": "2024-07-10T09:51:23.273606Z",
     "shell.execute_reply.started": "2024-07-10T09:51:23.269704Z"
    }
   },
   "outputs": [],
   "source": [
    "def print_sparsity(prune_net, printing=True):\n",
    "    # Prine the sparsity\n",
    "    num = 0\n",
    "    denom = 0\n",
    "    ct = 0\n",
    "    for module in prune_net.modules():\n",
    "        if isinstance(module, nn.modules.conv.Conv2d) or isinstance(module, nn.modules.Linear):\n",
    "            if hasattr(module, 'weight'):\n",
    "                num += torch.sum(module.weight == 0)\n",
    "                denom += module.weight.nelement()\n",
    "                if printing:\n",
    "                    print(\n",
    "                    f\"Layer {ct}\", \"Sparsity in weight: {:.2f}%\".format(\n",
    "                        100. * torch.sum(module.weight == 0) / module.weight.nelement())\n",
    "                    )\n",
    "                ct += 1\n",
    "    if printing:\n",
    "        print(f\"Model Sparsity Now: {num / denom * 100}\")\n",
    "    return num / denom"
   ]
  },
  {
   "cell_type": "code",
   "execution_count": null,
   "id": "fff50935-fb5b-4e25-a599-000b46422747",
   "metadata": {
    "execution": {
     "iopub.execute_input": "2024-07-10T09:51:23.486552Z",
     "iopub.status.busy": "2024-07-10T09:51:23.486368Z",
     "iopub.status.idle": "2024-07-10T09:51:23.500659Z",
     "shell.execute_reply": "2024-07-10T09:51:23.500248Z",
     "shell.execute_reply.started": "2024-07-10T09:51:23.486536Z"
    },
    "scrolled": true
   },
   "outputs": [],
   "source": [
    "print_sparsity(net)"
   ]
  },
  {
   "cell_type": "code",
   "execution_count": null,
   "id": "73692478-59a3-44d6-ba86-9be9d1fdb844",
   "metadata": {
    "execution": {
     "iopub.execute_input": "2024-07-10T09:51:28.066104Z",
     "iopub.status.busy": "2024-07-10T09:51:28.065777Z",
     "iopub.status.idle": "2024-07-10T09:51:34.170590Z",
     "shell.execute_reply": "2024-07-10T09:51:34.169571Z",
     "shell.execute_reply.started": "2024-07-10T09:51:28.066075Z"
    }
   },
   "outputs": [],
   "source": [
    "torch.save(net.state_dict(), f\"path/to/save_model.pth\")"
   ]
  }
 ],
 "metadata": {
  "kernelspec": {
   "display_name": "Python 3 (ipykernel)",
   "language": "python",
   "name": "python3"
  },
  "language_info": {
   "codemirror_mode": {
    "name": "ipython",
    "version": 3
   },
   "file_extension": ".py",
   "mimetype": "text/x-python",
   "name": "python",
   "nbconvert_exporter": "python",
   "pygments_lexer": "ipython3",
   "version": "3.9.19"
  }
 },
 "nbformat": 4,
 "nbformat_minor": 5
}
