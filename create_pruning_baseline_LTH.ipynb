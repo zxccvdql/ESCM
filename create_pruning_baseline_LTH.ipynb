{
 "cells": [
  {
   "cell_type": "code",
   "execution_count": null,
   "id": "a0145564-a77b-4aa7-a57b-592da080ab77",
   "metadata": {
    "execution": {
     "iopub.execute_input": "2024-07-11T01:31:45.930659Z",
     "iopub.status.busy": "2024-07-11T01:31:45.930300Z",
     "iopub.status.idle": "2024-07-11T01:31:45.935882Z",
     "shell.execute_reply": "2024-07-11T01:31:45.934980Z",
     "shell.execute_reply.started": "2024-07-11T01:31:45.930613Z"
    }
   },
   "outputs": [],
   "source": [
    "import os\n",
    "\n",
    "import torch\n",
    "import torch.nn as nn\n",
    "\n",
    "from dataloaders import *\n",
    "from scene_net import *\n",
    "from prune_utils import *\n",
    "\n",
    "import torch.nn.utils.prune as prune"
   ]
  },
  {
   "cell_type": "code",
   "execution_count": null,
   "id": "1dce8c4c-2f32-4efa-a401-bc5fb910ff2f",
   "metadata": {
    "execution": {
     "iopub.execute_input": "2024-07-11T01:31:46.143208Z",
     "iopub.status.busy": "2024-07-11T01:31:46.143034Z",
     "iopub.status.idle": "2024-07-11T01:31:46.146379Z",
     "shell.execute_reply": "2024-07-11T01:31:46.145740Z",
     "shell.execute_reply.started": "2024-07-11T01:31:46.143193Z"
    }
   },
   "outputs": [],
   "source": [
    "os.environ['CUDA_VISIBLE_DEVICES'] = '0'"
   ]
  },
  {
   "cell_type": "code",
   "execution_count": null,
   "id": "1d2a81cf-c86e-40be-b76e-6c02ff73c9b1",
   "metadata": {
    "execution": {
     "iopub.execute_input": "2024-07-11T01:31:46.326278Z",
     "iopub.status.busy": "2024-07-11T01:31:46.326084Z",
     "iopub.status.idle": "2024-07-11T01:31:46.329801Z",
     "shell.execute_reply": "2024-07-11T01:31:46.329013Z",
     "shell.execute_reply.started": "2024-07-11T01:31:46.326262Z"
    }
   },
   "outputs": [],
   "source": [
    "dataset = 'nyuv2_3'\n",
    "ration = 0.7\n",
    "task = 'T1+T3'\n",
    "method = 'LTH'"
   ]
  },
  {
   "cell_type": "code",
   "execution_count": null,
   "id": "20c49bd6-0aa5-44c1-870f-e35b9df1140f",
   "metadata": {
    "execution": {
     "iopub.execute_input": "2024-07-11T01:31:46.675234Z",
     "iopub.status.busy": "2024-07-11T01:31:46.674606Z",
     "iopub.status.idle": "2024-07-11T01:31:46.680690Z",
     "shell.execute_reply": "2024-07-11T01:31:46.679510Z",
     "shell.execute_reply.started": "2024-07-11T01:31:46.675206Z"
    }
   },
   "outputs": [],
   "source": [
    "if dataset == \"nyuv2_3\":\n",
    "    from config_nyuv2_3task import Config\n",
    "    config = Config()\n",
    "elif dataset == \"cityscapes\":\n",
    "    from config_cityscapes import Config\n",
    "    config = Config()\n",
    "elif dataset == \"taskonomy\":\n",
    "    from config_taskonomy import Config\n",
    "    config = Config()"
   ]
  },
  {
   "cell_type": "code",
   "execution_count": null,
   "id": "e682b728-2ce6-4920-a73a-dc95f3fc78d4",
   "metadata": {
    "execution": {
     "iopub.execute_input": "2024-07-11T01:31:46.967374Z",
     "iopub.status.busy": "2024-07-11T01:31:46.966473Z",
     "iopub.status.idle": "2024-07-11T01:31:46.971542Z",
     "shell.execute_reply": "2024-07-11T01:31:46.970619Z",
     "shell.execute_reply.started": "2024-07-11T01:31:46.967340Z"
    }
   },
   "outputs": [],
   "source": [
    "device = torch.device(\"cuda\" if torch.cuda.is_available() else \"cpu\")"
   ]
  },
  {
   "cell_type": "code",
   "execution_count": null,
   "id": "9ca3b797-c8e9-4ffd-b1c2-5f17679273e0",
   "metadata": {
    "execution": {
     "iopub.execute_input": "2024-07-11T01:31:47.483282Z",
     "iopub.status.busy": "2024-07-11T01:31:47.482959Z",
     "iopub.status.idle": "2024-07-11T01:31:48.109603Z",
     "shell.execute_reply": "2024-07-11T01:31:48.108625Z",
     "shell.execute_reply.started": "2024-07-11T01:31:47.483255Z"
    }
   },
   "outputs": [],
   "source": [
    "net = SceneNet(config.TASKS_NUM_CLASS, config.BACKBONE_NAME).to(device)"
   ]
  },
  {
   "cell_type": "code",
   "execution_count": null,
   "id": "f772160f-4488-4eb4-8a6c-6d4323a75984",
   "metadata": {
    "execution": {
     "iopub.execute_input": "2024-07-11T01:31:48.403686Z",
     "iopub.status.busy": "2024-07-11T01:31:48.403347Z",
     "iopub.status.idle": "2024-07-11T01:31:48.614064Z",
     "shell.execute_reply": "2024-07-11T01:31:48.613226Z",
     "shell.execute_reply.started": "2024-07-11T01:31:48.403672Z"
    }
   },
   "outputs": [],
   "source": [
    "orgin_dict = torch.load(\"path/to/pretrained_model.pth\")\n",
    "# # If the base_model is multi card trained. Otherwise, comment out the content.\n",
    "# modified_state_dict = {}\n",
    "# for key, value in orgin_dict.items():\n",
    "#     if key.startswith(\"module.\"):\n",
    "#         new_key = key[7:]  # 去掉前7个字符（\"module.\"的长度）\n",
    "#         modified_state_dict[new_key] = value\n",
    "#     else:\n",
    "#         modified_state_dict[key] = value\n",
    "# net.load_state_dict(modified_state_dict)\n",
    "net.load_state_dict(orgin_dict)\n"
   ]
  },
  {
   "cell_type": "code",
   "execution_count": null,
   "id": "10e9c767-27cd-42e6-b085-f9b9b04d03ec",
   "metadata": {
    "execution": {
     "iopub.execute_input": "2024-07-11T01:31:52.550201Z",
     "iopub.status.busy": "2024-07-11T01:31:52.549892Z",
     "iopub.status.idle": "2024-07-11T01:31:52.554770Z",
     "shell.execute_reply": "2024-07-11T01:31:52.553675Z",
     "shell.execute_reply.started": "2024-07-11T01:31:52.550175Z"
    }
   },
   "outputs": [],
   "source": [
    "parameters_to_prune = []\n",
    "for name, layer in net.named_modules():\n",
    "    if isinstance(layer, nn.Conv2d) or isinstance(layer, nn.Linear):\n",
    "        if 'backbone' in name or 'task1' in name or 'task3' in name: # task selection\n",
    "        # if 'backbone' in name or 'task' in name:\n",
    "            parameters_to_prune.append((layer, 'weight'))"
   ]
  },
  {
   "cell_type": "code",
   "execution_count": null,
   "id": "855559fb-0e62-478b-b8a1-9ce8a51eda5d",
   "metadata": {
    "execution": {
     "iopub.execute_input": "2024-07-11T01:31:52.866072Z",
     "iopub.status.busy": "2024-07-11T01:31:52.865747Z",
     "iopub.status.idle": "2024-07-11T01:31:52.905990Z",
     "shell.execute_reply": "2024-07-11T01:31:52.904975Z",
     "shell.execute_reply.started": "2024-07-11T01:31:52.866045Z"
    }
   },
   "outputs": [],
   "source": [
    "prune.global_unstructured(\n",
    "    parameters_to_prune,\n",
    "    pruning_method=prune.L1Unstructured,\n",
    "    amount=ration,\n",
    ")"
   ]
  },
  {
   "cell_type": "code",
   "execution_count": null,
   "id": "e1e46db1-bc11-4bbb-b312-8f55e31ed22e",
   "metadata": {
    "execution": {
     "iopub.execute_input": "2024-07-11T01:31:53.263098Z",
     "iopub.status.busy": "2024-07-11T01:31:53.262822Z",
     "iopub.status.idle": "2024-07-11T01:31:53.267612Z",
     "shell.execute_reply": "2024-07-11T01:31:53.266859Z",
     "shell.execute_reply.started": "2024-07-11T01:31:53.263074Z"
    }
   },
   "outputs": [],
   "source": [
    "def print_sparsity(prune_net, printing=True):\n",
    "    # Prine the sparsity\n",
    "    num = 0\n",
    "    denom = 0\n",
    "    ct = 0\n",
    "    for module in prune_net.modules():\n",
    "        if isinstance(module, nn.modules.conv.Conv2d) or isinstance(module, nn.modules.Linear):\n",
    "            if hasattr(module, 'weight'):\n",
    "                num += torch.sum(module.weight == 0)\n",
    "                denom += module.weight.nelement()\n",
    "                if printing:\n",
    "                    print(\n",
    "                    f\"Layer {ct}\", \"Sparsity in weight: {:.2f}%\".format(\n",
    "                        100. * torch.sum(module.weight == 0) / module.weight.nelement())\n",
    "                    )\n",
    "                ct += 1\n",
    "    if printing:\n",
    "        print(f\"Model Sparsity Now: {num / denom * 100}\")\n",
    "    return num / denom"
   ]
  },
  {
   "cell_type": "code",
   "execution_count": null,
   "id": "fff50935-fb5b-4e25-a599-000b46422747",
   "metadata": {
    "execution": {
     "iopub.execute_input": "2024-07-11T01:31:53.611841Z",
     "iopub.status.busy": "2024-07-11T01:31:53.611516Z",
     "iopub.status.idle": "2024-07-11T01:31:53.636629Z",
     "shell.execute_reply": "2024-07-11T01:31:53.635626Z",
     "shell.execute_reply.started": "2024-07-11T01:31:53.611814Z"
    },
    "scrolled": true
   },
   "outputs": [],
   "source": [
    "print_sparsity(net)"
   ]
  },
  {
   "cell_type": "code",
   "execution_count": null,
   "id": "73692478-59a3-44d6-ba86-9be9d1fdb844",
   "metadata": {
    "execution": {
     "iopub.execute_input": "2024-07-11T01:31:56.821319Z",
     "iopub.status.busy": "2024-07-11T01:31:56.820994Z"
    }
   },
   "outputs": [],
   "source": [
    "torch.save(net.state_dict(), f\"path/to/save_model.pth\")"
   ]
  }
 ],
 "metadata": {
  "kernelspec": {
   "display_name": "Python 3 (ipykernel)",
   "language": "python",
   "name": "python3"
  },
  "language_info": {
   "codemirror_mode": {
    "name": "ipython",
    "version": 3
   },
   "file_extension": ".py",
   "mimetype": "text/x-python",
   "name": "python",
   "nbconvert_exporter": "python",
   "pygments_lexer": "ipython3",
   "version": "3.9.19"
  }
 },
 "nbformat": 4,
 "nbformat_minor": 5
}
