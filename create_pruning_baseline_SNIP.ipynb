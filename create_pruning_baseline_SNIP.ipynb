{
 "cells": [
  {
   "cell_type": "code",
   "execution_count": null,
   "id": "a0145564-a77b-4aa7-a57b-592da080ab77",
   "metadata": {
    "execution": {
     "iopub.execute_input": "2024-07-11T01:47:23.777085Z",
     "iopub.status.busy": "2024-07-11T01:47:23.776769Z",
     "iopub.status.idle": "2024-07-11T01:47:25.395301Z",
     "shell.execute_reply": "2024-07-11T01:47:25.394847Z",
     "shell.execute_reply.started": "2024-07-11T01:47:23.777056Z"
    }
   },
   "outputs": [],
   "source": [
    "import os\n",
    "\n",
    "import torch\n",
    "from torch.utils.data import DataLoader\n",
    "\n",
    "from dataloaders import *\n",
    "from scene_net import *\n",
    "from prune_utils import *\n",
    "from loss import SceneNetLoss\n"
   ]
  },
  {
   "cell_type": "code",
   "execution_count": null,
   "id": "1dce8c4c-2f32-4efa-a401-bc5fb910ff2f",
   "metadata": {
    "execution": {
     "iopub.execute_input": "2024-07-11T01:47:25.434787Z",
     "iopub.status.busy": "2024-07-11T01:47:25.434530Z",
     "iopub.status.idle": "2024-07-11T01:47:25.437244Z",
     "shell.execute_reply": "2024-07-11T01:47:25.436715Z",
     "shell.execute_reply.started": "2024-07-11T01:47:25.434764Z"
    }
   },
   "outputs": [],
   "source": [
    "os.environ['CUDA_VISIBLE_DEVICES'] = '0'"
   ]
  },
  {
   "cell_type": "code",
   "execution_count": null,
   "id": "1d2a81cf-c86e-40be-b76e-6c02ff73c9b1",
   "metadata": {
    "execution": {
     "iopub.execute_input": "2024-07-11T01:47:26.876801Z",
     "iopub.status.busy": "2024-07-11T01:47:26.876455Z",
     "iopub.status.idle": "2024-07-11T01:47:26.944084Z",
     "shell.execute_reply": "2024-07-11T01:47:26.943596Z",
     "shell.execute_reply.started": "2024-07-11T01:47:26.876777Z"
    }
   },
   "outputs": [],
   "source": [
    "dataset = 'nyuv2_3'\n",
    "ratio =70\n",
    "num_batches = 50\n",
    "task = 'T2+T3'\n",
    "method = 'SNIP'\n",
    "dest = f\"path/to/save/model\"\n",
    "device = torch.device(\"cuda\" if torch.cuda.is_available() else \"cpu\")\n",
    "save_path = f'{dest}/{task}_{ratio}.pth'"
   ]
  },
  {
   "cell_type": "code",
   "execution_count": null,
   "id": "340cca4d-06c0-4cde-b248-86220792f6b2",
   "metadata": {
    "execution": {
     "iopub.execute_input": "2024-07-11T01:47:27.670048Z",
     "iopub.status.busy": "2024-07-11T01:47:27.669748Z",
     "iopub.status.idle": "2024-07-11T01:47:27.673357Z",
     "shell.execute_reply": "2024-07-11T01:47:27.672443Z",
     "shell.execute_reply.started": "2024-07-11T01:47:27.670036Z"
    }
   },
   "outputs": [],
   "source": [
    "os.makedirs(dest, exist_ok=True)"
   ]
  },
  {
   "cell_type": "code",
   "execution_count": null,
   "id": "20c49bd6-0aa5-44c1-870f-e35b9df1140f",
   "metadata": {
    "execution": {
     "iopub.execute_input": "2024-07-11T01:47:28.490365Z",
     "iopub.status.busy": "2024-07-11T01:47:28.490039Z",
     "iopub.status.idle": "2024-07-11T01:47:28.505625Z",
     "shell.execute_reply": "2024-07-11T01:47:28.504829Z",
     "shell.execute_reply.started": "2024-07-11T01:47:28.490338Z"
    }
   },
   "outputs": [],
   "source": [
    "if dataset == \"nyuv2_3\":\n",
    "    from config_nyuv2_3task import Config\n",
    "    config = Config()\n",
    "    train_dataset = NYU_v2(config.DATA_ROOT, 'train', crop_h=config.CROP_H, crop_w=config.CROP_W)\n",
    "    train_loader = DataLoader(train_dataset, batch_size = config.BATCH_SIZE, num_workers = 8, shuffle=True, pin_memory=True)\n",
    "    # test_dataset = NYU_v2(config.DATA_ROOT, 'test')\n",
    "    # test_loader = DataLoader(test_dataset, batch_size = 1, num_workers = 8, shuffle=True, pin_memory=True)\n",
    "elif dataset == \"cityscapes\":\n",
    "    from config_cityscapes import Config\n",
    "    config = Config()\n",
    "    train_dataset = CityScapes(config.DATA_ROOT, 'train', crop_h=config.CROP_H, crop_w=config.CROP_W)\n",
    "    train_loader = DataLoader(train_dataset, batch_size = int(config.BATCH_SIZE / 2), num_workers = 8, shuffle=True, pin_memory=True)\n",
    "    # test_dataset = CityScapes(config.DATA_ROOT, 'test')\n",
    "    # test_loader = DataLoader(test_dataset, batch_size = 1, num_workers = 8, shuffle=True, pin_memory=True)\n",
    "elif dataset == \"taskonomy\":\n",
    "    from config_taskonomy import Config\n",
    "    config = Config()\n",
    "    train_dataset = Taskonomy(config.DATA_ROOT, 'train', crop_h=config.CROP_H, crop_w=config.CROP_W)\n",
    "    train_loader = DataLoader(train_dataset, batch_size = config.BATCH_SIZE//4, num_workers = 8, shuffle=True, pin_memory=True)\n",
    "    # test_dataset = Taskonomy(config.DATA_ROOT, 'test')\n",
    "    # test_loader = DataLoader(test_dataset, batch_size = 1, num_workers = 8, shuffle=True, pin_memory=True)\n",
    "else:\n",
    "    print(\"Unrecognized Dataset Name.\")\n",
    "    exit()"
   ]
  },
  {
   "cell_type": "code",
   "execution_count": null,
   "id": "9ca3b797-c8e9-4ffd-b1c2-5f17679273e0",
   "metadata": {
    "execution": {
     "iopub.execute_input": "2024-07-11T01:47:29.102689Z",
     "iopub.status.busy": "2024-07-11T01:47:29.102366Z",
     "iopub.status.idle": "2024-07-11T01:47:30.730726Z",
     "shell.execute_reply": "2024-07-11T01:47:30.730199Z",
     "shell.execute_reply.started": "2024-07-11T01:47:29.102662Z"
    }
   },
   "outputs": [],
   "source": [
    "net = SceneNet(config.TASKS_NUM_CLASS, config.BACKBONE_NAME).to(device)"
   ]
  },
  {
   "cell_type": "code",
   "execution_count": null,
   "id": "b99b16dc-dc41-4516-b828-bb7dcb536c22",
   "metadata": {
    "execution": {
     "iopub.execute_input": "2024-07-11T01:47:30.731757Z",
     "iopub.status.busy": "2024-07-11T01:47:30.731594Z",
     "iopub.status.idle": "2024-07-11T01:47:30.734637Z",
     "shell.execute_reply": "2024-07-11T01:47:30.734153Z",
     "shell.execute_reply.started": "2024-07-11T01:47:30.731742Z"
    }
   },
   "outputs": [],
   "source": [
    "criterion = SceneNetLoss(dataset, config.TASKS, config.TASKS_NUM_CLASS, config.LAMBDAS, device, config.DATA_ROOT)"
   ]
  },
  {
   "cell_type": "code",
   "execution_count": null,
   "id": "57afb43a-b771-4591-9840-e95257831513",
   "metadata": {
    "execution": {
     "iopub.execute_input": "2024-07-11T01:47:31.716634Z",
     "iopub.status.busy": "2024-07-11T01:47:31.716434Z",
     "iopub.status.idle": "2024-07-11T01:47:31.719284Z",
     "shell.execute_reply": "2024-07-11T01:47:31.718746Z",
     "shell.execute_reply.started": "2024-07-11T01:47:31.716621Z"
    }
   },
   "outputs": [],
   "source": [
    "if ratio == 70:\n",
    "    keep_ratio = 0.3"
   ]
  },
  {
   "cell_type": "code",
   "execution_count": null,
   "id": "a1e06aa3-eb8d-412f-82e0-d877cdc51fea",
   "metadata": {
    "execution": {
     "iopub.execute_input": "2024-07-11T01:47:31.978828Z",
     "iopub.status.busy": "2024-07-11T01:47:31.978509Z"
    },
    "scrolled": true
   },
   "outputs": [],
   "source": [
    "net = SNIP_prune(net, criterion, train_loader, num_batches, keep_ratio)"
   ]
  },
  {
   "cell_type": "code",
   "execution_count": null,
   "id": "53cebfa6-83c2-4454-8e41-cf6c69477d3e",
   "metadata": {
    "scrolled": true
   },
   "outputs": [],
   "source": [
    "print_sparsity(net)"
   ]
  },
  {
   "cell_type": "code",
   "execution_count": null,
   "id": "c57f47be-d916-46f7-98a4-54c9a4156571",
   "metadata": {},
   "outputs": [],
   "source": [
    "print(f\"Saving the pruned model to {save_path}\")\n",
    "torch.save(net.state_dict(), save_path)"
   ]
  }
 ],
 "metadata": {
  "kernelspec": {
   "display_name": "Python 3 (ipykernel)",
   "language": "python",
   "name": "python3"
  },
  "language_info": {
   "codemirror_mode": {
    "name": "ipython",
    "version": 3
   },
   "file_extension": ".py",
   "mimetype": "text/x-python",
   "name": "python",
   "nbconvert_exporter": "python",
   "pygments_lexer": "ipython3",
   "version": "3.9.19"
  }
 },
 "nbformat": 4,
 "nbformat_minor": 5
}
