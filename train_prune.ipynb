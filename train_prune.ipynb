{
 "cells": [
  {
   "cell_type": "code",
   "execution_count": null,
   "id": "3d3f4aba-7dcf-46e1-b269-af797b06f190",
   "metadata": {
    "execution": {
     "iopub.execute_input": "2024-07-10T09:28:31.716490Z",
     "iopub.status.busy": "2024-07-10T09:28:31.716165Z",
     "iopub.status.idle": "2024-07-10T09:28:33.927125Z",
     "shell.execute_reply": "2024-07-10T09:28:33.926514Z",
     "shell.execute_reply.started": "2024-07-10T09:28:31.716459Z"
    }
   },
   "outputs": [],
   "source": [
    "import os\n",
    "import torch\n",
    "from torch.utils.data import DataLoader\n",
    "import torch.nn as nn\n",
    "from dataloaders import *\n",
    "from scene_net import *\n",
    "from loss import SceneNetLoss\n",
    "from train import train\n",
    "\n",
    "from evaluation import SceneNetEval\n"
   ]
  },
  {
   "cell_type": "code",
   "execution_count": null,
   "id": "d83c710d-9138-4d40-a794-99e625587c37",
   "metadata": {
    "execution": {
     "iopub.execute_input": "2024-07-10T09:28:33.928640Z",
     "iopub.status.busy": "2024-07-10T09:28:33.928082Z",
     "iopub.status.idle": "2024-07-10T09:28:33.931091Z",
     "shell.execute_reply": "2024-07-10T09:28:33.930717Z",
     "shell.execute_reply.started": "2024-07-10T09:28:33.928622Z"
    }
   },
   "outputs": [],
   "source": [
    "os.environ['CUDA_VISIBLE_DEVICES'] = '0'"
   ]
  },
  {
   "cell_type": "code",
   "execution_count": null,
   "id": "7376fed8-c192-42f4-8fcc-051bcbf753d2",
   "metadata": {
    "execution": {
     "iopub.execute_input": "2024-07-10T09:28:42.439006Z",
     "iopub.status.busy": "2024-07-10T09:28:42.438732Z",
     "iopub.status.idle": "2024-07-10T09:28:42.502978Z",
     "shell.execute_reply": "2024-07-10T09:28:42.502425Z",
     "shell.execute_reply.started": "2024-07-10T09:28:42.438991Z"
    }
   },
   "outputs": [],
   "source": [
    "postion = 'high'\n",
    "device = torch.device(\"cuda\" if torch.cuda.is_available() else \"cpu\")\n",
    "\n",
    "dataset = 'nyuv2_3'\n",
    "method = 'prune_pt'\n",
    "ratio = '70_seg_sn'\n",
    "dest = f\"path/to/save_dir\""
   ]
  },
  {
   "cell_type": "code",
   "execution_count": null,
   "id": "54cbc222-70cb-4176-8694-6cc04695a6fe",
   "metadata": {
    "execution": {
     "iopub.execute_input": "2024-07-10T09:28:43.003757Z",
     "iopub.status.busy": "2024-07-10T09:28:43.003468Z",
     "iopub.status.idle": "2024-07-10T09:28:43.006856Z",
     "shell.execute_reply": "2024-07-10T09:28:43.006485Z",
     "shell.execute_reply.started": "2024-07-10T09:28:43.003732Z"
    }
   },
   "outputs": [],
   "source": [
    "network_name = f\"{dataset}_{method}_{ratio}_{postion}\"\n",
    "print(network_name)"
   ]
  },
  {
   "cell_type": "code",
   "execution_count": null,
   "id": "d0df3bf2-9409-47cd-bfde-0d53787bbba8",
   "metadata": {
    "execution": {
     "iopub.execute_input": "2024-07-10T09:28:44.389039Z",
     "iopub.status.busy": "2024-07-10T09:28:44.388700Z",
     "iopub.status.idle": "2024-07-10T09:28:44.392831Z",
     "shell.execute_reply": "2024-07-10T09:28:44.391878Z",
     "shell.execute_reply.started": "2024-07-10T09:28:44.389023Z"
    }
   },
   "outputs": [],
   "source": [
    "os.makedirs(dest, exist_ok=True)\n",
    "os.makedirs(f\"logs/{dataset}\", exist_ok=True)\n",
    "log_file = open(f\"logs/{dataset}/{network_name}.txt\", \"w\")"
   ]
  },
  {
   "cell_type": "code",
   "execution_count": null,
   "id": "7be7ab5e-9eb7-4375-9a95-8e50ce7a5548",
   "metadata": {
    "execution": {
     "iopub.execute_input": "2024-07-10T09:28:44.893193Z",
     "iopub.status.busy": "2024-07-10T09:28:44.892850Z",
     "iopub.status.idle": "2024-07-10T09:28:44.927799Z",
     "shell.execute_reply": "2024-07-10T09:28:44.926898Z",
     "shell.execute_reply.started": "2024-07-10T09:28:44.893163Z"
    }
   },
   "outputs": [],
   "source": [
    "if dataset == \"nyuv2_3\":\n",
    "    from config_nyuv2_3task import Config\n",
    "    config = Config()\n",
    "    train_dataset = NYU_v2(config.DATA_ROOT, 'train', crop_h=config.CROP_H, crop_w=config.CROP_W)\n",
    "    train_loader = DataLoader(train_dataset, batch_size = config.BATCH_SIZE, num_workers = 8, shuffle=True, pin_memory=True)\n",
    "    test_dataset = NYU_v2(config.DATA_ROOT, 'test')\n",
    "    test_loader = DataLoader(test_dataset, batch_size = 1, num_workers = 8, shuffle=True, pin_memory=True)\n",
    "elif dataset == \"cityscapes\":\n",
    "    from config_cityscapes import Config\n",
    "    config = Config()\n",
    "    train_dataset = CityScapes(config.DATA_ROOT, 'train', crop_h=config.CROP_H, crop_w=config.CROP_W)\n",
    "    train_loader = DataLoader(train_dataset, batch_size = config.BATCH_SIZE, num_workers = 8, shuffle=True, pin_memory=True)\n",
    "    test_dataset = CityScapes(config.DATA_ROOT, 'test')\n",
    "    test_loader = DataLoader(test_dataset, batch_size = 1, num_workers = 8, shuffle=True, pin_memory=True)\n",
    "elif dataset == \"taskonomy\":\n",
    "    from config_taskonomy import Config\n",
    "    config = Config()\n",
    "    train_dataset = Taskonomy(config.DATA_ROOT, 'train', crop_h=config.CROP_H, crop_w=config.CROP_W)\n",
    "    train_loader = DataLoader(train_dataset, batch_size = config.BATCH_SIZE, num_workers = 8, shuffle=True, pin_memory=True)\n",
    "    test_dataset = Taskonomy(config.DATA_ROOT, 'test')\n",
    "    test_loader = DataLoader(test_dataset, batch_size = config.BATCH_SIZE, num_workers = 8, shuffle=True, pin_memory=True)\n",
    "else:\n",
    "    print(\"Unrecognized Dataset Name.\")\n",
    "    exit()"
   ]
  },
  {
   "cell_type": "code",
   "execution_count": null,
   "id": "dc7a3c63-12a9-43a0-8a5a-4f1faa4fb406",
   "metadata": {
    "execution": {
     "iopub.execute_input": "2024-07-10T09:28:45.846418Z",
     "iopub.status.busy": "2024-07-10T09:28:45.846085Z",
     "iopub.status.idle": "2024-07-10T09:28:45.850078Z",
     "shell.execute_reply": "2024-07-10T09:28:45.849553Z",
     "shell.execute_reply.started": "2024-07-10T09:28:45.846389Z"
    }
   },
   "outputs": [],
   "source": [
    "print(\"TrainDataset:\", len(train_dataset))\n",
    "print(\"TestDataset:\", len(test_dataset))"
   ]
  },
  {
   "cell_type": "code",
   "execution_count": null,
   "id": "edfaa8bd-8173-4de4-8bb3-7deafd2cc5b7",
   "metadata": {
    "execution": {
     "iopub.execute_input": "2024-07-10T09:28:48.058280Z",
     "iopub.status.busy": "2024-07-10T09:28:48.057943Z",
     "iopub.status.idle": "2024-07-10T09:28:48.062591Z",
     "shell.execute_reply": "2024-07-10T09:28:48.062167Z",
     "shell.execute_reply.started": "2024-07-10T09:28:48.058251Z"
    }
   },
   "outputs": [],
   "source": [
    "####################################\n",
    "# It is mainly realized by freezing the parameters of unselected tasks and eliminating the loss function of unselected tasks.\n",
    "# The elimination of unselected task loss function is mainly realized by adding the number '0 to 4' in the criterion_task parameter.\n",
    "# 0 to 4 correspond to task 1 to task 5, respectively.\n",
    "##########################\n",
    "criterion_task = config.TASKS\n",
    "if not isinstance(criterion_task, list):\n",
    "    criterion_task = [criterion_task]\n",
    "print(criterion_task)\n",
    "\n",
    "##############################################################\n",
    "# Freeze tasks that are not selected.\n",
    "froze = 'task3' \n",
    "##############################################################"
   ]
  },
  {
   "cell_type": "code",
   "execution_count": null,
   "id": "fcae750e-f383-46d4-bb0d-703b57ce4b58",
   "metadata": {
    "execution": {
     "iopub.execute_input": "2024-07-10T09:29:49.118765Z",
     "iopub.status.busy": "2024-07-10T09:29:49.118372Z",
     "iopub.status.idle": "2024-07-10T09:29:50.636110Z",
     "shell.execute_reply": "2024-07-10T09:29:50.635563Z",
     "shell.execute_reply.started": "2024-07-10T09:29:49.118735Z"
    }
   },
   "outputs": [],
   "source": [
    "net = SceneNet(config.TASKS_NUM_CLASS, config.BACKBONE_NAME).to(device)"
   ]
  },
  {
   "cell_type": "code",
   "execution_count": null,
   "id": "1ac98d78-1d24-45ec-b8e1-ee7e6049a906",
   "metadata": {
    "execution": {
     "iopub.execute_input": "2024-07-10T09:29:52.270351Z",
     "iopub.status.busy": "2024-07-10T09:29:52.270145Z",
     "iopub.status.idle": "2024-07-10T09:29:52.273393Z",
     "shell.execute_reply": "2024-07-10T09:29:52.273001Z",
     "shell.execute_reply.started": "2024-07-10T09:29:52.270333Z"
    }
   },
   "outputs": [],
   "source": [
    "for name, param in net.named_parameters():\n",
    "    if froze in name:\n",
    "        param.requires_grad = False"
   ]
  },
  {
   "cell_type": "code",
   "execution_count": null,
   "id": "5098c3b8-75a5-4e30-b860-aa2c434335e0",
   "metadata": {
    "execution": {
     "iopub.execute_input": "2024-07-10T09:29:53.418139Z",
     "iopub.status.busy": "2024-07-10T09:29:53.417838Z",
     "iopub.status.idle": "2024-07-10T09:29:53.431415Z",
     "shell.execute_reply": "2024-07-10T09:29:53.430973Z",
     "shell.execute_reply.started": "2024-07-10T09:29:53.418110Z"
    }
   },
   "outputs": [],
   "source": [
    "import torch.nn.utils.prune as prune\n",
    "# import torch.nn.functional as F\n",
    "from prune_utils import print_sparsity\n",
    "for module in net.modules():\n",
    "    # Check if it's basic block\n",
    "    if isinstance(module, nn.modules.conv.Conv2d) or isinstance(module, nn.modules.Linear):\n",
    "        module = prune.identity(module, 'weight')"
   ]
  },
  {
   "cell_type": "code",
   "execution_count": null,
   "id": "87df317c-4e8c-444f-8cd5-13f7f624a132",
   "metadata": {
    "execution": {
     "iopub.execute_input": "2024-07-10T09:29:57.946977Z",
     "iopub.status.busy": "2024-07-10T09:29:57.946678Z",
     "iopub.status.idle": "2024-07-10T09:29:58.432849Z",
     "shell.execute_reply": "2024-07-10T09:29:58.432360Z",
     "shell.execute_reply.started": "2024-07-10T09:29:57.946963Z"
    }
   },
   "outputs": [],
   "source": [
    "saved_state_dict = torch.load(\"path/to/pruned/model.pth\")\n",
    "# new_state_dict = {}\n",
    "# for key, value in saved_state_dict.items():\n",
    "#     new_key = 'module.' + key\n",
    "#     new_state_dict[new_key] = value\n",
    "net.load_state_dict(saved_state_dict)"
   ]
  },
  {
   "cell_type": "code",
   "execution_count": null,
   "id": "24047cbd-a091-4921-a56d-33234e2ae1e9",
   "metadata": {
    "execution": {
     "iopub.execute_input": "2024-07-10T09:29:59.822651Z",
     "iopub.status.busy": "2024-07-10T09:29:59.822273Z",
     "iopub.status.idle": "2024-07-10T09:29:59.840372Z",
     "shell.execute_reply": "2024-07-10T09:29:59.839908Z",
     "shell.execute_reply.started": "2024-07-10T09:29:59.822616Z"
    },
    "scrolled": true
   },
   "outputs": [],
   "source": [
    "for module in net.modules():\n",
    "    # Check if it's basic block\n",
    "    if isinstance(module, nn.modules.conv.Conv2d) or isinstance(module, nn.modules.Linear):\n",
    "        module.weight = module.weight_orig * module.weight_mask\n",
    "print_sparsity(net)"
   ]
  },
  {
   "cell_type": "code",
   "execution_count": null,
   "id": "6c337938-d075-4549-969c-35c1c0150a52",
   "metadata": {
    "execution": {
     "iopub.execute_input": "2024-07-10T09:30:07.403954Z",
     "iopub.status.busy": "2024-07-10T09:30:07.403595Z",
     "iopub.status.idle": "2024-07-10T09:30:07.409829Z",
     "shell.execute_reply": "2024-07-10T09:30:07.408810Z",
     "shell.execute_reply.started": "2024-07-10T09:30:07.403929Z"
    }
   },
   "outputs": [],
   "source": [
    "criterion = SceneNetLoss(dataset, criterion_task, config.TASKS_NUM_CLASS, config.LAMBDAS, device, config.DATA_ROOT)\n",
    "optimizer = torch.optim.Adam(net.parameters(), lr = config.RETRAIN_LR, weight_decay = config.WEIGHT_DECAY)"
   ]
  },
  {
   "cell_type": "code",
   "execution_count": null,
   "id": "1c66bbd7-2eb2-48be-9034-f8f2ef4f2ae7",
   "metadata": {
    "execution": {
     "iopub.execute_input": "2024-07-10T09:30:07.649474Z",
     "iopub.status.busy": "2024-07-10T09:30:07.649125Z",
     "iopub.status.idle": "2024-07-10T09:30:07.654374Z",
     "shell.execute_reply": "2024-07-10T09:30:07.653400Z",
     "shell.execute_reply.started": "2024-07-10T09:30:07.649444Z"
    }
   },
   "outputs": [],
   "source": [
    "scheduler = torch.optim.lr_scheduler.StepLR(optimizer, step_size=config.RETRAIN_DECAY_LR_FREQ, gamma=config.DECAY_LR_RATE)\n",
    "batch_update = 16"
   ]
  },
  {
   "cell_type": "code",
   "execution_count": null,
   "id": "8c4c9823-f277-483b-80fc-504edd1842c8",
   "metadata": {
    "execution": {
     "iopub.execute_input": "2024-07-10T09:30:08.186323Z",
     "iopub.status.busy": "2024-07-10T09:30:08.185973Z",
     "iopub.status.idle": "2024-07-10T09:30:08.194075Z",
     "shell.execute_reply": "2024-07-10T09:30:08.193133Z",
     "shell.execute_reply.started": "2024-07-10T09:30:08.186291Z"
    }
   },
   "outputs": [],
   "source": [
    "for name, param in net.named_parameters():\n",
    "    print(name, param.requires_grad)"
   ]
  },
  {
   "cell_type": "code",
   "execution_count": null,
   "id": "fd7830b1-e26a-41ed-9cc2-09c5f608183d",
   "metadata": {
    "execution": {
     "iopub.execute_input": "2024-07-10T09:30:14.559867Z",
     "iopub.status.busy": "2024-07-10T09:30:14.559492Z",
     "iopub.status.idle": "2024-07-10T10:01:42.865843Z",
     "shell.execute_reply": "2024-07-10T10:01:42.865151Z",
     "shell.execute_reply.started": "2024-07-10T09:30:14.559836Z"
    },
    "scrolled": true
   },
   "outputs": [],
   "source": [
    "net = train(net, dataset, criterion, optimizer, scheduler, train_loader, test_loader, network_name, batch_update, max_iters = config.RETRAIN_EPOCH, save_model=True, log_file=log_file, method=method, dest=dest)\n",
    "print_sparsity(net)\n",
    "# torch.save(net.state_dict(), f\"{dest}/final_{network_name}.pth\")"
   ]
  },
  {
   "cell_type": "code",
   "execution_count": null,
   "id": "c398fdd9-9094-4f39-b710-37d0fdb89919",
   "metadata": {
    "execution": {
     "iopub.execute_input": "2024-07-10T10:01:42.874391Z",
     "iopub.status.busy": "2024-07-10T10:01:42.874238Z",
     "iopub.status.idle": "2024-07-10T10:02:21.354228Z",
     "shell.execute_reply": "2024-07-10T10:02:21.353494Z",
     "shell.execute_reply.started": "2024-07-10T10:01:42.874374Z"
    },
    "scrolled": true
   },
   "outputs": [],
   "source": [
    "evaluator = SceneNetEval(device, config.TASKS, config.TASKS_NUM_CLASS, config.IMAGE_SHAPE, dataset, config.DATA_ROOT)\n",
    "print(f\"{dest}/best_{network_name}.pth\")\n",
    "net.load_state_dict(torch.load(f\"{dest}/best_{network_name}.pth\"))\n",
    "net.eval()\n",
    "res = evaluator.get_final_metrics(net, test_loader)\n",
    "\n",
    "log_file.write(str(res))\n",
    "print(res)\n",
    "log_file.close()"
   ]
  },
  {
   "cell_type": "code",
   "execution_count": null,
   "id": "313c6eba-8cbb-4fb9-99e4-737190bbc308",
   "metadata": {},
   "outputs": [],
   "source": []
  }
 ],
 "metadata": {
  "kernelspec": {
   "display_name": "Python 3 (ipykernel)",
   "language": "python",
   "name": "python3"
  },
  "language_info": {
   "codemirror_mode": {
    "name": "ipython",
    "version": 3
   },
   "file_extension": ".py",
   "mimetype": "text/x-python",
   "name": "python",
   "nbconvert_exporter": "python",
   "pygments_lexer": "ipython3",
   "version": "3.9.19"
  }
 },
 "nbformat": 4,
 "nbformat_minor": 5
}
