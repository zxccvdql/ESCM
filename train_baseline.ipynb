{
 "cells": [
  {
   "cell_type": "code",
   "execution_count": null,
   "id": "91be6310-6354-4de8-b7a3-229221e4cdf0",
   "metadata": {
    "execution": {
     "iopub.execute_input": "2024-07-01T06:19:25.320653Z",
     "iopub.status.busy": "2024-07-01T06:19:25.320249Z",
     "iopub.status.idle": "2024-07-01T06:19:26.885407Z",
     "shell.execute_reply": "2024-07-01T06:19:26.884553Z",
     "shell.execute_reply.started": "2024-07-01T06:19:25.320620Z"
    }
   },
   "outputs": [],
   "source": [
    "import os\n",
    "import torch\n",
    "from torch.utils.data import DataLoader\n",
    "from dataloaders import *\n",
    "from scene_net import *\n",
    "from loss import SceneNetLoss\n",
    "from train import train"
   ]
  },
  {
   "cell_type": "code",
   "execution_count": null,
   "id": "6aae7945-cc17-4461-94c1-48f72e43731c",
   "metadata": {
    "execution": {
     "iopub.execute_input": "2024-07-01T06:19:27.318113Z",
     "iopub.status.busy": "2024-07-01T06:19:27.317754Z",
     "iopub.status.idle": "2024-07-01T06:19:27.321791Z",
     "shell.execute_reply": "2024-07-01T06:19:27.321039Z",
     "shell.execute_reply.started": "2024-07-01T06:19:27.318097Z"
    }
   },
   "outputs": [],
   "source": [
    "os.environ['CUDA_VISIBLE_DEVICES'] = '0'"
   ]
  },
  {
   "cell_type": "code",
   "execution_count": null,
   "id": "3aed087b-d0bb-4a62-b7be-f9427a2b4a09",
   "metadata": {
    "execution": {
     "iopub.execute_input": "2024-07-01T06:19:31.444498Z",
     "iopub.status.busy": "2024-07-01T06:19:31.444150Z",
     "iopub.status.idle": "2024-07-01T06:19:31.535785Z",
     "shell.execute_reply": "2024-07-01T06:19:31.534969Z",
     "shell.execute_reply.started": "2024-07-01T06:19:31.444468Z"
    }
   },
   "outputs": [],
   "source": [
    "device = torch.device(\"cuda\" if torch.cuda.is_available() else \"cpu\")\n",
    "network_name = 'network_name'\n",
    "dest = \"path/to/save/model\"\n",
    "dataset = \"nyuv2_3\" # choosen dataset form nyuv2_3, cityscapes and taskonomy"
   ]
  },
  {
   "cell_type": "code",
   "execution_count": null,
   "id": "9cbd42fc-65f1-4098-af0b-d531d191e04b",
   "metadata": {
    "execution": {
     "iopub.execute_input": "2024-07-01T06:19:33.476109Z",
     "iopub.status.busy": "2024-07-01T06:19:33.475763Z",
     "iopub.status.idle": "2024-07-01T06:19:33.481225Z",
     "shell.execute_reply": "2024-07-01T06:19:33.480427Z",
     "shell.execute_reply.started": "2024-07-01T06:19:33.476080Z"
    }
   },
   "outputs": [],
   "source": [
    "log_file = open(f\"logs/{dataset}/{network_name}.txt\", \"w\")"
   ]
  },
  {
   "cell_type": "code",
   "execution_count": null,
   "id": "ad2ce341-e360-49d8-8ce9-d7b472aed656",
   "metadata": {
    "execution": {
     "iopub.execute_input": "2024-07-01T06:19:34.117711Z",
     "iopub.status.busy": "2024-07-01T06:19:34.117374Z",
     "iopub.status.idle": "2024-07-01T06:19:34.149917Z",
     "shell.execute_reply": "2024-07-01T06:19:34.148965Z",
     "shell.execute_reply.started": "2024-07-01T06:19:34.117682Z"
    }
   },
   "outputs": [],
   "source": [
    "if dataset == \"nyuv2_3\":\n",
    "    from config_nyuv2_3task import Config\n",
    "    config = Config()\n",
    "    train_dataset = NYU_v2(config.DATA_ROOT, 'train', crop_h=config.CROP_H, crop_w=config.CROP_W)\n",
    "    train_loader = DataLoader(train_dataset, batch_size = config.BATCH_SIZE, num_workers = 8, shuffle=True, pin_memory=True)\n",
    "    test_dataset = NYU_v2(config.DATA_ROOT, 'test')\n",
    "    test_loader = DataLoader(test_dataset, batch_size = 1, num_workers = 8, shuffle=True, pin_memory=True)\n",
    "elif dataset == \"cityscapes\":\n",
    "    from config_cityscapes import Config\n",
    "    config = Config()\n",
    "    train_dataset = CityScapes(config.DATA_ROOT, 'train', crop_h=config.CROP_H, crop_w=config.CROP_W)\n",
    "    train_loader = DataLoader(train_dataset, batch_size = config.BATCH_SIZE, num_workers = 8, shuffle=True, pin_memory=True)\n",
    "    test_dataset = CityScapes(config.DATA_ROOT, 'test')\n",
    "    test_loader = DataLoader(test_dataset, batch_size = 1, num_workers = 8, shuffle=True, pin_memory=True)\n",
    "elif dataset == \"taskonomy\":\n",
    "    from config_taskonomy import Config\n",
    "    config = Config()\n",
    "    train_dataset = Taskonomy(config.DATA_ROOT, 'train', crop_h=config.CROP_H, crop_w=config.CROP_W)\n",
    "    train_loader = DataLoader(train_dataset, batch_size = config.BATCH_SIZE, num_workers = 8, shuffle=True, pin_memory=True)\n",
    "    test_dataset = Taskonomy(config.DATA_ROOT, 'test')\n",
    "    test_loader = DataLoader(test_dataset, batch_size = config.BATCH_SIZE, num_workers = 8, shuffle=True, pin_memory=True)\n",
    "else:\n",
    "    print(\"Unrecognized Dataset Name.\")\n",
    "    exit()"
   ]
  },
  {
   "cell_type": "code",
   "execution_count": null,
   "id": "ebe27db2-fa38-4688-834a-664274d4d327",
   "metadata": {
    "execution": {
     "iopub.execute_input": "2024-07-01T06:19:36.302755Z",
     "iopub.status.busy": "2024-07-01T06:19:36.302412Z",
     "iopub.status.idle": "2024-07-01T06:19:36.308016Z",
     "shell.execute_reply": "2024-07-01T06:19:36.306996Z",
     "shell.execute_reply.started": "2024-07-01T06:19:36.302726Z"
    }
   },
   "outputs": [],
   "source": [
    "print(\"TrainDataset:\", len(train_dataset))\n",
    "print(\"TestDataset:\", len(test_dataset))"
   ]
  },
  {
   "cell_type": "code",
   "execution_count": null,
   "id": "ff09147d-f5a9-4fad-90a2-4c2dcf117c55",
   "metadata": {
    "execution": {
     "iopub.execute_input": "2024-07-01T06:19:37.511639Z",
     "iopub.status.busy": "2024-07-01T06:19:37.511295Z",
     "iopub.status.idle": "2024-07-01T06:19:39.026820Z",
     "shell.execute_reply": "2024-07-01T06:19:39.025858Z",
     "shell.execute_reply.started": "2024-07-01T06:19:37.511610Z"
    }
   },
   "outputs": [],
   "source": [
    "net = SceneNet(config.TASKS_NUM_CLASS, config.BACKBONE_NAME).to(device)\n",
    "# if dataset == \"taskonomy\":\n",
    "#     net = nn.DataParallel(net, device_ids=[0, 1])"
   ]
  },
  {
   "cell_type": "code",
   "execution_count": null,
   "id": "281f7087-ceb3-44e2-a8f4-2e439d73ef06",
   "metadata": {
    "execution": {
     "iopub.execute_input": "2024-07-01T06:19:48.393224Z",
     "iopub.status.busy": "2024-07-01T06:19:48.393024Z",
     "iopub.status.idle": "2024-07-01T06:19:48.398468Z",
     "shell.execute_reply": "2024-07-01T06:19:48.397735Z",
     "shell.execute_reply.started": "2024-07-01T06:19:48.393208Z"
    }
   },
   "outputs": [],
   "source": [
    "criterion = SceneNetLoss(dataset, config.TASKS, config.TASKS_NUM_CLASS, config.LAMBDAS, device, config.DATA_ROOT)\n",
    "optimizer = torch.optim.Adam(net.parameters(), lr = config.INIT_LR, weight_decay = config.WEIGHT_DECAY)\n",
    "scheduler = torch.optim.lr_scheduler.StepLR(optimizer, step_size=config.DECAY_LR_FREQ, gamma=config.DECAY_LR_RATE)"
   ]
  },
  {
   "cell_type": "code",
   "execution_count": null,
   "id": "42c35b14-1ecb-413e-b9ac-d381d5567f53",
   "metadata": {
    "execution": {
     "iopub.execute_input": "2024-07-01T06:19:50.696224Z",
     "iopub.status.busy": "2024-07-01T06:19:50.695856Z",
     "iopub.status.idle": "2024-07-01T13:35:17.028339Z",
     "shell.execute_reply": "2024-07-01T13:35:17.026860Z",
     "shell.execute_reply.started": "2024-07-01T06:19:50.696195Z"
    },
    "scrolled": true
   },
   "outputs": [],
   "source": [
    "batch_update = 16\n",
    "net = train(net, dataset, criterion, optimizer, scheduler, train_loader, test_loader, network_name, batch_update, max_iters=config.MAX_ITERS, log_file=log_file, save_model=True, method=\"baseline\", dest=dest)"
   ]
  },
  {
   "cell_type": "code",
   "execution_count": null,
   "id": "5811459f-a22c-4940-bf3c-902c1046bd8e",
   "metadata": {
    "execution": {
     "iopub.execute_input": "2024-07-01T13:35:17.148958Z",
     "iopub.status.busy": "2024-07-01T13:35:17.148809Z",
     "iopub.status.idle": "2024-07-01T13:35:45.867135Z",
     "shell.execute_reply": "2024-07-01T13:35:45.866122Z",
     "shell.execute_reply.started": "2024-07-01T13:35:17.148944Z"
    }
   },
   "outputs": [],
   "source": [
    "from evaluation import SceneNetEval\n",
    "import warnings\n",
    "warnings.filterwarnings('ignore')\n",
    "evaluator = SceneNetEval(device, config.TASKS, config.TASKS_NUM_CLASS, config.IMAGE_SHAPE, dataset, config.DATA_ROOT)\n",
    "net.load_state_dict(torch.load(f\"{dest}/best_{network_name}.pth\"))\n",
    "net.eval()\n",
    "res = evaluator.get_final_metrics(net, test_loader)\n",
    "log_file.write(str(res))\n",
    "print(res)\n",
    "log_file.close()"
   ]
  },
  {
   "cell_type": "code",
   "execution_count": null,
   "id": "b55b8b42-6719-4245-8abc-6124f045dce7",
   "metadata": {},
   "outputs": [],
   "source": []
  }
 ],
 "metadata": {
  "kernelspec": {
   "display_name": "Python 3 (ipykernel)",
   "language": "python",
   "name": "python3"
  },
  "language_info": {
   "codemirror_mode": {
    "name": "ipython",
    "version": 3
   },
   "file_extension": ".py",
   "mimetype": "text/x-python",
   "name": "python",
   "nbconvert_exporter": "python",
   "pygments_lexer": "ipython3",
   "version": "3.9.19"
  }
 },
 "nbformat": 4,
 "nbformat_minor": 5
}
